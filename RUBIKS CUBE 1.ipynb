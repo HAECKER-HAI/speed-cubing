{
  "nbformat": 4,
  "nbformat_minor": 0,
  "metadata": {
    "colab": {
      "provenance": []
    },
    "kernelspec": {
      "name": "python3",
      "display_name": "Python 3"
    },
    "language_info": {
      "name": "python"
    }
  },
  "cells": [
    {
      "cell_type": "markdown",
      "source": [
        "Task 1: Decode Moves\n",
        "Write a function:\n",
        "decode_moves(moves: str) -> List[str]\n",
        "Input: A string of cube moves (e.g., \"R U R' U'\")\n",
        " Output: A list of individual moves\n",
        " Example:\n",
        "Input:  \"R U R' U'\"\n",
        "Output: [\"R\", \"U\", \"R'\", \"U'\"]"
      ],
      "metadata": {
        "id": "rg_pp3IZG8Dk"
      }
    },
    {
      "cell_type": "code",
      "execution_count": 8,
      "metadata": {
        "colab": {
          "base_uri": "https://localhost:8080/"
        },
        "id": "z-BrD9m0GpWV",
        "outputId": "265cc576-6276-4567-8014-3ae8d5b6feec"
      },
      "outputs": [
        {
          "output_type": "stream",
          "name": "stdout",
          "text": [
            "Enter the Rubik's Cube moves (like: R U R' U'):\n",
            "R U R U\n",
            "Decoded moves are:\n",
            "['R', 'U', 'R', 'U']\n"
          ]
        }
      ],
      "source": [
        "from typing import List\n",
        "\n",
        "def decode_moves(moves: str) -> List[str]:\n",
        "    # This function splits the moves string into a list of individual moves\n",
        "    result = []\n",
        "    current_move = \"\"\n",
        "\n",
        "    for character in moves:\n",
        "        if character == \" \":\n",
        "            if current_move != \"\":\n",
        "                result.append(current_move)\n",
        "                current_move = \"\"\n",
        "        else:\n",
        "            current_move = current_move + character\n",
        "\n",
        "    # Add the last move if there's one remaining\n",
        "    if current_move != \"\":\n",
        "        result.append(current_move)\n",
        "\n",
        "    return result\n",
        "\n",
        "# Ask the user for moves\n",
        "print(\"Enter the Rubik's Cube moves (like: R U R' U'):\")\n",
        "user_input = input()\n",
        "\n",
        "# Call the function\n",
        "decoded = decode_moves(user_input)\n",
        "\n",
        "# Show the result\n",
        "print(\"Decoded moves are:\")\n",
        "print(decoded)\n"
      ]
    },
    {
      "cell_type": "markdown",
      "source": [],
      "metadata": {
        "id": "6H5sH2s8G6w2"
      }
    },
    {
      "cell_type": "markdown",
      "source": [
        "Represent a single face of the cube using a 3×3 list of strings, e.g., [['W','W','W'],['W','W','W'],['W','W','W']].\n",
        "(a) is_valid_face(face: List[List[str]]) -> bool\n",
        "Returns True if all tiles are the same color.\n",
        "(b) count_colors(face: List[List[str]]) -> Dict[str, int]\n",
        "Returns a dictionary mapping each color to its count.\n",
        "(c) rotate_face(face: List[List[str]], direction: str) -> List[List[str]]\n",
        "Rotates the face 90° in the specified direction ('CW' or 'CCW').\n"
      ],
      "metadata": {
        "id": "bjn3gCxqHDMe"
      }
    },
    {
      "cell_type": "code",
      "source": [
        "from typing import List, Dict\n",
        "\n",
        "def is_valid_face(face: List[List[str]]) -> bool:\n",
        "    # Check if all tiles in the face are the same color\n",
        "    first_tile = face[0][0]\n",
        "    for i in range(3):\n",
        "        for j in range(3):\n",
        "            if face[i][j] != first_tile:\n",
        "                return False\n",
        "    return True\n",
        "\n",
        "def count_colors(face: List[List[str]]) -> Dict[str, int]:\n",
        "    # Count how many times each color appears on the face\n",
        "    color_count = {}\n",
        "    for i in range(3):\n",
        "        for j in range(3):\n",
        "            tile = face[i][j]\n",
        "            if tile in color_count:\n",
        "                color_count[tile] = color_count[tile] + 1\n",
        "            else:\n",
        "                color_count[tile] = 1\n",
        "    return color_count\n",
        "\n",
        "def rotate_face(face: List[List[str]], direction: str) -> List[List[str]]:\n",
        "    # Rotate the face 90 degrees in the given direction (CW or CCW)\n",
        "    new_face = [\n",
        "        [\"\", \"\", \"\"],\n",
        "        [\"\", \"\", \"\"],\n",
        "        [\"\", \"\", \"\"]\n",
        "    ]\n",
        "\n",
        "    if direction == \"CW\":\n",
        "        for i in range(3):\n",
        "            for j in range(3):\n",
        "                new_face[i][j] = face[2 - j][i]\n",
        "    elif direction == \"CCW\":\n",
        "        for i in range(3):\n",
        "            for j in range(3):\n",
        "                new_face[i][j] = face[j][2 - i]\n",
        "    else:\n",
        "        print(\"Invalid direction\")\n",
        "        raise ValueError(\"Direction must be 'CW' or 'CCW'\")\n",
        "\n",
        "    return new_face"
      ],
      "metadata": {
        "id": "Wu7QWY1FHHcb"
      },
      "execution_count": 7,
      "outputs": []
    },
    {
      "cell_type": "markdown",
      "source": [
        "Task 3: Cube Net Display\n",
        "Store the cube state as a dictionary with 6 faces: 'U', 'D', 'F', 'B', 'L', 'R'.\n",
        " Write a function to print the cube in a 2D net layout, like:\n",
        "\t[ U ]\n",
        "[L ] [ F ] [ R ] [ B ]\n",
        "\t[ D ]\n",
        "Each face should be displayed as a 3×3 grid of colors."
      ],
      "metadata": {
        "id": "IPviDnj9HO8E"
      }
    },
    {
      "cell_type": "code",
      "source": [
        "from typing import Dict, List\n",
        "\n",
        "def print_cube(cube: Dict[str, List[List[str]]]) -> None:\n",
        "    # Print the Up face\n",
        "    print(\"      \" + cube['U'][0][0] + \" \" + cube['U'][0][1] + \" \" + cube['U'][0][2])\n",
        "    print(\"      \" + cube['U'][1][0] + \" \" + cube['U'][1][1] + \" \" + cube['U'][1][2])\n",
        "    print(\"      \" + cube['U'][2][0] + \" \" + cube['U'][2][1] + \" \" + cube['U'][2][2])\n",
        "\n",
        "    # Print Left, Front, Right, Back faces in one row\n",
        "    for i in range(3):\n",
        "        left_row = cube['L'][i][0] + \" \" + cube['L'][i][1] + \" \" + cube['L'][i][2]\n",
        "        front_row = cube['F'][i][0] + \" \" + cube['F'][i][1] + \" \" + cube['F'][i][2]\n",
        "        right_row = cube['R'][i][0] + \" \" + cube['R'][i][1] + \" \" + cube['R'][i][2]\n",
        "        back_row = cube['B'][i][0] + \" \" + cube['B'][i][1] + \" \" + cube['B'][i][2]\n",
        "        print(left_row + \"   \" + front_row + \"   \" + right_row + \"   \" + back_row)\n",
        "\n",
        "    # Print the Down face\n",
        "    print(\"      \" + cube['D'][0][0] + \" \" + cube['D'][0][1] + \" \" + cube['D'][0][2])\n",
        "    print(\"      \" + cube['D'][1][0] + \" \" + cube['D'][1][1] + \" \" + cube['D'][1][2])\n",
        "    print(\"      \" + cube['D'][2][0] + \" \" + cube['D'][2][1] + \" \" + cube['D'][2][2])\n"
      ],
      "metadata": {
        "id": "fP58k_9tHOsn"
      },
      "execution_count": 6,
      "outputs": []
    }
  ]
}